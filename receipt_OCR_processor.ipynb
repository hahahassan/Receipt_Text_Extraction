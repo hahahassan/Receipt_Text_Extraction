{
 "cells": [
  {
   "cell_type": "code",
   "execution_count": 2,
   "metadata": {},
   "outputs": [],
   "source": [
    "import cv2\n",
    "import numpy as np\n",
    "import fitz  # PyMuPDF\n",
    "import pytesseract\n",
    "import os"
   ]
  },
  {
   "cell_type": "code",
   "execution_count": 3,
   "metadata": {},
   "outputs": [],
   "source": [
    "def convert_pdf_to_images(pdf_path, output_folder):\n",
    "    # Ensure the output folder exists\n",
    "    if not os.path.exists(output_folder):\n",
    "        os.makedirs(output_folder)\n",
    "        \n",
    "    pdf_document = fitz.open(pdf_path)  # Open the PDF document\n",
    "    image_paths = []\n",
    "    base_name = os.path.splitext(os.path.basename(pdf_path))[0]  # Get base name of the file without extension\n",
    "    for page_num in range(len(pdf_document)):\n",
    "        page = pdf_document.load_page(page_num)  # Load each page\n",
    "        pix = page.get_pixmap()  # Get the pixmap (image representation)\n",
    "        img_data = np.frombuffer(pix.samples, dtype=np.uint8).reshape(pix.height, pix.width, pix.n)\n",
    "        \n",
    "        if pix.n > 3:  # Convert RGBA to RGB if needed\n",
    "            img_data = cv2.cvtColor(img_data, cv2.COLOR_BGRA2BGR)\n",
    "        \n",
    "        # Save the image with the processed prefix\n",
    "        image_path = os.path.join(output_folder, f\"Processed_{base_name}_page_{page_num + 1}.png\")\n",
    "        cv2.imwrite(image_path, img_data)\n",
    "        image_paths.append(image_path)  # Keep track of saved image paths\n",
    "    return image_paths\n",
    "\n",
    "def preprocess_image(image_path):\n",
    "    image = cv2.imread(image_path)  # Read the image\n",
    "    gray_image = cv2.cvtColor(image, cv2.COLOR_BGR2GRAY)  # Convert to grayscale\n",
    "    blurred_image = cv2.GaussianBlur(gray_image, (5, 5), 0)  # Apply Gaussian blur to reduce noise\n",
    "    denoised_image = cv2.fastNlMeansDenoising(blurred_image, h=30)  # Denoise the image\n",
    "    adaptive_thresh_image = cv2.adaptiveThreshold(denoised_image, 255, cv2.ADAPTIVE_THRESH_GAUSSIAN_C, cv2.THRESH_BINARY, 11, 2)  # Adaptive thresholding\n",
    "    kernel = np.ones((3, 3), np.uint8)  # Kernel for morphological operations\n",
    "    morph_image = cv2.morphologyEx(adaptive_thresh_image, cv2.MORPH_CLOSE, kernel)  # Morphological closing\n",
    "    contrast_image = cv2.convertScaleAbs(morph_image, alpha=1.5, beta=0)  # Adjust contrast\n",
    "    return contrast_image\n",
    "\n",
    "def extract_text_from_images(image_paths):\n",
    "    texts = []\n",
    "    for image_path in image_paths:\n",
    "        img = cv2.imread(image_path)  # Read the image\n",
    "        text = pytesseract.image_to_string(img, config='--psm 1')  # Extract text using Tesseract OCR\n",
    "        texts.append(text)\n",
    "    return texts\n",
    "\n",
    "def extract_text_from_file(file_path, output_folder=\"Processed_images_PDFs\"):\n",
    "    if file_path.lower().endswith('.pdf'):\n",
    "        image_paths = convert_pdf_to_images(file_path, output_folder)  # Convert PDF to images\n",
    "        texts = extract_text_from_images(image_paths)  # Extract text from images without preprocessing\n",
    "    else:\n",
    "        processed_image = preprocess_image(file_path)  # Preprocess the image\n",
    "        base_name = os.path.splitext(os.path.basename(file_path))[0]  # Get base name of the file without extension\n",
    "        processed_image_path = os.path.join(output_folder, f\"Processed_{base_name}.png\")\n",
    "        if not os.path.exists(output_folder):\n",
    "            os.makedirs(output_folder)\n",
    "        cv2.imwrite(processed_image_path, processed_image)  # Save the processed image\n",
    "        texts = [pytesseract.image_to_string(processed_image, config='--psm 1')]  # Extract text from the processed image\n",
    "    return \"\\n\".join(texts)  # Join extracted texts from all images"
   ]
  },
  {
   "cell_type": "code",
   "execution_count": 2,
   "metadata": {},
   "outputs": [],
   "source": [
    "# pip install pdfplumber"
   ]
  },
  {
   "cell_type": "code",
   "execution_count": 3,
   "metadata": {},
   "outputs": [],
   "source": [
    "# test pdf\n",
    "import pdfplumber\n",
    "\n",
    "# Function to extract text from a PDF file\n",
    "def extract_text_from_pdf(pdf_path):\n",
    "    text = \"\"\n",
    "    with pdfplumber.open(pdf_path) as pdf:\n",
    "        for page in pdf.pages:\n",
    "            text += page.extract_text()\n",
    "    return text\n",
    "\n",
    "\n"
   ]
  },
  {
   "cell_type": "code",
   "execution_count": 5,
   "metadata": {},
   "outputs": [
    {
     "name": "stdout",
     "output_type": "stream",
     "text": [
      "Invoice\n",
      "CAN US EXPERT TEK SOLUTIONS\n",
      "Contact Number :+8558342055\n",
      "1300 W Holly St STE 206\n",
      "Bill Date : 12/19/2020\n",
      "Bellingham\n",
      "Period : 11/19/2020 - 12/18/2020\n",
      "-98225\n",
      "Invoice No : C328814-2\n",
      "US\n",
      "Account Summary\n",
      "Current Activity\n",
      "Current Bill Amount(USD)\n",
      "Fixed Charges - Line2 - Business Monthly (USD) 24.99\n",
      "Usage Charges(USD) 0.00\n",
      "Current Bill Total(USD) 24.99\n",
      "Net Charges 24.99\n",
      "Other Charges(USD)\n",
      "Other Charges Total(USD) 0.00\n",
      "Total Taxes, Charges & Fees(USD) 7.32\n",
      "Current Amount(USD) 32.31\n",
      "Payment(s) Received(USD) 32.31\n",
      "Total Amount Due(USD) 0.00\n",
      "Taxes, Charges, & Fees\n",
      "FCC Regulatory Fee (Federal) 0.02\n",
      "FUSF (Federal) 1.90\n",
      "Sales Tax (State) 1.93\n",
      "Sales Tax (Local) 0.66\n",
      "Utility Users Tax (Local) 0.81\n",
      "Compliance & Administrative Cost Recovery Fee 2.00\n",
      "Total Taxes, Charges, & Fees(USD) 7.32\n",
      "Billing Summary for Company - CAN US EXPERT TEK SOLUTIONS\n",
      "Description of Charge\n",
      "Fixed Charges\n",
      "Company 24.99\n",
      "Other Recurring Charges\n",
      "Total Charges (USD): 24.99\n",
      "Page 1 of 1\n",
      "v1.0\n"
     ]
    }
   ],
   "source": [
    "# Extracting text from each PDF\n",
    "receipt_text = extract_text_from_pdf(\"uploaded-receipts\\Invoice-12-19-2020-328814-1_WCCIJbS.pdf\")\n",
    "print(receipt_text)"
   ]
  },
  {
   "cell_type": "code",
   "execution_count": 4,
   "metadata": {},
   "outputs": [
    {
     "name": "stdout",
     "output_type": "stream",
     "text": [
      "TASTE of ON RECORD ------\n",
      "PUNJAB RESTAURANT\n",
      "SURREY BC\n",
      "\n",
      "Purchase\n",
      "\n",
      "Jul 14,2022 19:40:20\n",
      "VISA Khe KEKKHEKEK YD 7 0\n",
      "Entry: Tap EMV (H)\n",
      "\n",
      "Ref#: 418-1D21 95708209106\n",
      "\n",
      "Auth#: 006227 Response: 01-827\n",
      "Order: MGO1657852810066\n",
      "\n",
      "Username: harj8477\n",
      "Amount - § 25.20\n",
      "\n",
      "A0000000031010 Visa Credit\n",
      "TVR 0000000000\n",
      "\n",
      "Approved\n",
      "Signature Not Required\n",
      "\n",
      "important:Retain this Copy for your\n",
      "record\n",
      "\n",
      "\n"
     ]
    }
   ],
   "source": [
    "if __name__ == \"__main__\":\n",
    "    file_path = r\"uploaded-receipts\\IMG_1305_9yP7EuA.jpg\"  # Replace with your file path (PDF or image)\n",
    "    extracted_text = extract_text_from_file(file_path)  # Extract text from the file\n",
    "    print(extracted_text)  # Print the extracted text\n",
    "    \n",
    "    "
   ]
  },
  {
   "cell_type": "code",
   "execution_count": null,
   "metadata": {},
   "outputs": [],
   "source": []
  }
 ],
 "metadata": {
  "kernelspec": {
   "display_name": ".venv",
   "language": "python",
   "name": "python3"
  },
  "language_info": {
   "codemirror_mode": {
    "name": "ipython",
    "version": 3
   },
   "file_extension": ".py",
   "mimetype": "text/x-python",
   "name": "python",
   "nbconvert_exporter": "python",
   "pygments_lexer": "ipython3",
   "version": "3.11.9"
  }
 },
 "nbformat": 4,
 "nbformat_minor": 2
}
